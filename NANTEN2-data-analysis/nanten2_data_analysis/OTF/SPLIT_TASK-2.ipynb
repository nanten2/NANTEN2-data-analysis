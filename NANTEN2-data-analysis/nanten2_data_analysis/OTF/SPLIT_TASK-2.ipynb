{
 "cells": [
  {
   "cell_type": "code",
   "execution_count": 14,
   "metadata": {},
   "outputs": [],
   "source": [
    "import matplotlib.pyplot as plt\n",
    "plt.rcParams['font.family'] = 'Arial,freesans'\n",
    "\n",
    "from astropy.coordinates import SkyCoord\n",
    "import numpy as np\n",
    "import pandas as pd\n",
    "import pathlib\n",
    "import astropy.coordinates\n",
    "from astropy.coordinates import AltAz, FK5, Galactic\n",
    "import astropy.units as u\n",
    "import astropy.time\n",
    "import astropy.constants as c\n",
    "import xarray as xr\n",
    "import pickle\n",
    "import time\n",
    "import os\n",
    "import sys\n",
    "import multiprocessing\n",
    "import necstdb\n",
    "sys.path.append('/home/amigos/otf_yamada/_python_modules/analy_n2data/script')\n",
    "#sys.path.append(\"/home/amigos/git/analy_n2data/script\")\n",
    "#import coordinate_calc\n",
    "import kisa_rev\n",
    "from datetime import datetime\n",
    "from tqdm import tqdm"
   ]
  },
  {
   "cell_type": "code",
   "execution_count": 15,
   "metadata": {},
   "outputs": [],
   "source": [
    "path = '/mnt/usbdisk9/data/observation/otf/otf_2019/n20200320193251_12CO_2-1_otf_OriKL'\n",
    "path = '/mnt/usbdisk9/data/observation/otf/otf_2019/n20200320011353_12CO_2-1_otf_OriKL'\n",
    "#path = \"/home/amigos/seigyo/hdd2/copy_HDD4_201912/otf_2019/n20191218021902_12CO_2-1_otf_OriKL/\""
   ]
  },
  {
   "cell_type": "code",
   "execution_count": 16,
   "metadata": {},
   "outputs": [],
   "source": [
    "xFFTS_Data_topics = [\n",
    "    \n",
    "    'xffts_board01',\n",
    "    'xffts_board02',\n",
    "    'xffts_board03',\n",
    "    'xffts_board04',\n",
    "    'xffts_board05',\n",
    "    'xffts_board06',\n",
    "    'xffts_board07',\n",
    "    'xffts_board08',\n",
    "    'xffts_board09',\n",
    "    'xffts_board10',\n",
    "    'xffts_board11',\n",
    "    'xffts_board12',\n",
    "    'xffts_board13',\n",
    "    'xffts_board14',\n",
    "    'xffts_board15',\n",
    "    'xffts_board16'\n",
    "    \n",
    "]"
   ]
  },
  {
   "cell_type": "code",
   "execution_count": 31,
   "metadata": {},
   "outputs": [],
   "source": [
    "def get_array(path, xFFTS_Data_topics):\n",
    "    db = necstdb.opendb(path)\n",
    "    xFFTS_data = db.open_table('xffts_board01').read(astype='array')\n",
    "    obsmode =  db.open_table('obsmode').read(astype='array')\n",
    "    enc =  db.open_table('status_encoder').read(astype='array')\n",
    "    \n",
    "    spec_array = xr.DataArray(\n",
    "\n",
    "        xFFTS_data['spec'], \n",
    "        dims=['t', 'spectral_data'], \n",
    "        coords={'t':xFFTS_data['timestamp']}\n",
    "    )\n",
    "\n",
    "\n",
    "    obsmode_array = xr.DataArray(\n",
    "\n",
    "        obsmode['obs_mode'],\n",
    "        dims = ['t'],\n",
    "        coords={'t':obsmode['received_time'], 'scan_num':('t', obsmode['scan_num'])}\n",
    "\n",
    "\n",
    "    )\n",
    "    \n",
    "    az_array = xr.DataArray(\n",
    "        \n",
    "        enc['enc_az']/3600, \n",
    "        dims=['t'],\n",
    "        coords={'t':enc['timestamp']}\n",
    "    )\n",
    "    \n",
    "    el_array = xr.DataArray(\n",
    "        \n",
    "        enc['enc_el']/3600, \n",
    "        dims=['t'],\n",
    "        coords={'t':enc['timestamp']}\n",
    "    )\n",
    "\n",
    "    return spec_array, obsmode_array, az_array, el_array\n",
    "\n",
    "def concatenate(spec_array, obsmode_array, az_array, el_array):\n",
    "    \n",
    "    reindexed_obsmode_array = obsmode_array.reindex(t=spec_array['t'], method='backfill')\n",
    "    reindexed_encoder_az_array = az_array.interp_like(spec_array)\n",
    "    reindexed_encoder_el_array = el_array.interp_like(spec_array)\n",
    "    \n",
    "    del obsmode_array\n",
    "    del az_array\n",
    "    del el_array\n",
    "    raw_array = xr.DataArray(\n",
    "        np.array(spec_array),\n",
    "        dims=['t', 'spectral_data'],\n",
    "        coords={'t':spec_array['t'],\n",
    "                \n",
    "               'obsmode':('t',np.array(reindexed_obsmode_array)),\n",
    "               'scan_num':('t', np.array(reindexed_obsmode_array['scan_num'])),\n",
    "               'azlist':('t', np.array(reindexed_encoder_az_array)),\n",
    "               'ellist':('t', np.array(reindexed_encoder_el_array))\n",
    "                \n",
    "               }\n",
    "    )\n",
    "    \n",
    "    return raw_array\n",
    "\n",
    "def get_lb(raw_array, time, location):\n",
    "    AltAzcoordiantes = astropy.coordinates.SkyCoord(\n",
    "        \n",
    "        az=raw_array['azlist'], \n",
    "        alt=raw_array['ellist'], \n",
    "        frame='altaz', \n",
    "        obstime=time,\n",
    "        location=location, \n",
    "        unit='deg')\n",
    "    \n",
    "    l_list = AltAzcoordiantes.transform_to(Galactic).l\n",
    "    b_list = AltAzcoordiantes.transform_to(Galactic).b\n",
    "    ra_list = AltAzcoordiantes.transform_to('fk5').ra\n",
    "    dec_list = AltAzcoordiantes.transform_to('fk5').dec\n",
    "    return l_list, b_list, ra_list, dec_list\n",
    "\n",
    "def make_data_array(raw_array, l_list, b_list, ra_list, dec_list, filename='hogehoge', save=False):\n",
    "    data_array = xr.DataArray(\n",
    "        np.array(raw_array), \n",
    "        dims=['t', 'spectral_data'],\n",
    "        coords={'t':raw_array['t'],\n",
    "               'obsmode':('t',np.array(raw_array['obsmode'])),\n",
    "               'scan_num':('t', np.array(raw_array['scan_num'])),\n",
    "               'l_list':('t', l_list),\n",
    "               'b_list':('t', b_list),\n",
    "               'ra_list':('t', ra_list),\n",
    "               'dec_list':('t',dec_list)}\n",
    "    )\n",
    "    \n",
    "    if save == True:\n",
    "        data_array.to_netcdf(f\"/mnt/usbdisk10/analy_n2data/OTF_netcdf/{filename}.cdf\")\n",
    "    return data_array"
   ]
  },
  {
   "cell_type": "code",
   "execution_count": null,
   "metadata": {},
   "outputs": [],
   "source": [
    "IF = '01'\n",
    "spec_array, obsmode_array, az_array, el_array = get_array(path, xFFTS_Data_topics[0])"
   ]
  },
  {
   "cell_type": "code",
   "execution_count": null,
   "metadata": {},
   "outputs": [],
   "source": [
    "raw_array = concatenate(spec_array, obsmode_array, az_array, el_array)"
   ]
  },
  {
   "cell_type": "code",
   "execution_count": null,
   "metadata": {},
   "outputs": [],
   "source": []
  },
  {
   "cell_type": "code",
   "execution_count": null,
   "metadata": {},
   "outputs": [],
   "source": [
    "plt.plot(spec_array[200])\n",
    "plt.plot(spec_array[10000])"
   ]
  },
  {
   "cell_type": "code",
   "execution_count": null,
   "metadata": {},
   "outputs": [],
   "source": []
  },
  {
   "cell_type": "code",
   "execution_count": null,
   "metadata": {},
   "outputs": [],
   "source": []
  },
  {
   "cell_type": "code",
   "execution_count": 33,
   "metadata": {},
   "outputs": [
    {
     "name": "stderr",
     "output_type": "stream",
     "text": [
      "\n",
      "\n",
      "\n",
      "\n",
      "0it [00:00, ?it/s]\u001b[A\u001b[A\u001b[A\u001b[A"
     ]
    },
    {
     "name": "stdout",
     "output_type": "stream",
     "text": [
      "01\n",
      "xffts_board01\n"
     ]
    },
    {
     "name": "stderr",
     "output_type": "stream",
     "text": [
      "\n",
      "\n",
      "\n",
      "\n",
      "1it [01:55, 115.13s/it]\u001b[A\u001b[A\u001b[A\u001b[A"
     ]
    },
    {
     "name": "stdout",
     "output_type": "stream",
     "text": [
      "02\n",
      "xffts_board02\n"
     ]
    },
    {
     "name": "stderr",
     "output_type": "stream",
     "text": [
      "\n",
      "\n",
      "\n",
      "\n",
      "2it [03:48, 114.53s/it]\u001b[A\u001b[A\u001b[A\u001b[A"
     ]
    },
    {
     "name": "stdout",
     "output_type": "stream",
     "text": [
      "03\n",
      "xffts_board03\n"
     ]
    },
    {
     "name": "stderr",
     "output_type": "stream",
     "text": [
      "\n",
      "\n",
      "\n",
      "\n",
      "3it [05:41, 114.25s/it]\u001b[A\u001b[A\u001b[A\u001b[A"
     ]
    },
    {
     "name": "stdout",
     "output_type": "stream",
     "text": [
      "04\n",
      "xffts_board04\n"
     ]
    },
    {
     "name": "stderr",
     "output_type": "stream",
     "text": [
      "\n",
      "\n",
      "\n",
      "\n",
      "4it [07:35, 114.01s/it]\u001b[A\u001b[A\u001b[A\u001b[A"
     ]
    },
    {
     "name": "stdout",
     "output_type": "stream",
     "text": [
      "05\n",
      "xffts_board05\n"
     ]
    },
    {
     "name": "stderr",
     "output_type": "stream",
     "text": [
      "\n",
      "\n",
      "\n",
      "\n",
      "5it [09:29, 114.00s/it]\u001b[A\u001b[A\u001b[A\u001b[A"
     ]
    },
    {
     "name": "stdout",
     "output_type": "stream",
     "text": [
      "06\n",
      "xffts_board06\n"
     ]
    },
    {
     "name": "stderr",
     "output_type": "stream",
     "text": [
      "\n",
      "\n",
      "\n",
      "\n",
      "6it [11:23, 114.11s/it]\u001b[A\u001b[A\u001b[A\u001b[A"
     ]
    },
    {
     "name": "stdout",
     "output_type": "stream",
     "text": [
      "07\n",
      "xffts_board07\n"
     ]
    },
    {
     "name": "stderr",
     "output_type": "stream",
     "text": [
      "\n",
      "\n",
      "\n",
      "\n",
      "7it [13:18, 114.31s/it]\u001b[A\u001b[A\u001b[A\u001b[A"
     ]
    },
    {
     "name": "stdout",
     "output_type": "stream",
     "text": [
      "08\n",
      "xffts_board08\n"
     ]
    },
    {
     "name": "stderr",
     "output_type": "stream",
     "text": [
      "\n",
      "\n",
      "\n",
      "\n",
      "8it [15:12, 114.10s/it]\u001b[A\u001b[A\u001b[A\u001b[A"
     ]
    },
    {
     "name": "stdout",
     "output_type": "stream",
     "text": [
      "09\n",
      "xffts_board09\n"
     ]
    },
    {
     "name": "stderr",
     "output_type": "stream",
     "text": [
      "\n",
      "\n",
      "\n",
      "\n",
      "9it [17:05, 113.99s/it]\u001b[A\u001b[A\u001b[A\u001b[A"
     ]
    },
    {
     "name": "stdout",
     "output_type": "stream",
     "text": [
      "10\n",
      "xffts_board10\n"
     ]
    },
    {
     "name": "stderr",
     "output_type": "stream",
     "text": [
      "\n",
      "\n",
      "\n",
      "\n",
      "10it [19:00, 114.07s/it]\u001b[A\u001b[A\u001b[A\u001b[A"
     ]
    },
    {
     "name": "stdout",
     "output_type": "stream",
     "text": [
      "11\n",
      "xffts_board11\n"
     ]
    },
    {
     "name": "stderr",
     "output_type": "stream",
     "text": [
      "\n",
      "\n",
      "\n",
      "\n",
      "11it [20:53, 113.94s/it]\u001b[A\u001b[A\u001b[A\u001b[A"
     ]
    },
    {
     "name": "stdout",
     "output_type": "stream",
     "text": [
      "12\n",
      "xffts_board12\n"
     ]
    },
    {
     "name": "stderr",
     "output_type": "stream",
     "text": [
      "\n",
      "\n",
      "\n",
      "\n",
      "12it [22:48, 114.13s/it]\u001b[A\u001b[A\u001b[A\u001b[A"
     ]
    },
    {
     "name": "stdout",
     "output_type": "stream",
     "text": [
      "13\n",
      "xffts_board13\n"
     ]
    },
    {
     "name": "stderr",
     "output_type": "stream",
     "text": [
      "\n",
      "\n",
      "\n",
      "\n",
      "13it [24:41, 113.92s/it]\u001b[A\u001b[A\u001b[A\u001b[A"
     ]
    },
    {
     "name": "stdout",
     "output_type": "stream",
     "text": [
      "14\n",
      "xffts_board14\n"
     ]
    },
    {
     "name": "stderr",
     "output_type": "stream",
     "text": [
      "\n",
      "\n",
      "\n",
      "\n",
      "14it [26:35, 113.79s/it]\u001b[A\u001b[A\u001b[A\u001b[A"
     ]
    },
    {
     "name": "stdout",
     "output_type": "stream",
     "text": [
      "15\n",
      "xffts_board15\n"
     ]
    },
    {
     "name": "stderr",
     "output_type": "stream",
     "text": [
      "\n",
      "\n",
      "\n",
      "\n",
      "15it [28:29, 114.02s/it]\u001b[A\u001b[A\u001b[A\u001b[A"
     ]
    },
    {
     "name": "stdout",
     "output_type": "stream",
     "text": [
      "16\n",
      "xffts_board16\n"
     ]
    },
    {
     "name": "stderr",
     "output_type": "stream",
     "text": [
      "\n",
      "\n",
      "\n",
      "\n",
      "16it [30:23, 113.99s/it]\u001b[A\u001b[A\u001b[A\u001b[A\n"
     ]
    }
   ],
   "source": [
    "# pipline\n",
    "\n",
    "IF_list = ['01', '02', '03','04', '05', '06', '07', '08', '09', '10', '11', '12', '13', '14', '15', '16']\n",
    "\n",
    "for IF, topic in tqdm(zip(IF_list, xFFTS_Data_topics)):\n",
    "    print(IF)\n",
    "    print(topic)\n",
    "    \n",
    "    spec_array, obsmode_array, az_array, el_array = get_array(path, topic)\n",
    "    raw_array = concatenate(spec_array, obsmode_array, az_array, el_array)\n",
    "    time = [datetime.utcfromtimestamp(i) for i in np.array(raw_array['t'])]\n",
    "\n",
    "    nanten2 = astropy.coordinates.EarthLocation(\n",
    "        \n",
    "            lon =  -67.70308139 * u.deg,\n",
    "            lat = -22.96995611  * u.deg,\n",
    "            height = 4863.85 * u.m    \n",
    "    )\n",
    "\n",
    "    l_list, b_list, ra_list, dec_list = get_lb(raw_array, time=time, location=nanten2)\n",
    "    \n",
    "    data_array = make_data_array(\n",
    "    \n",
    "    raw_array, \n",
    "    l_list,\n",
    "    b_list, \n",
    "    ra_list,\n",
    "    dec_list,\n",
    "    filename=f'n20200320011353_12CO_2-1_otf_OriKL_revised{IF}', \n",
    "    save=True\n",
    "    \n",
    "    )\n",
    "    \n",
    "    del spec_array, obsmode_array, az_array, el_array\n",
    "    "
   ]
  },
  {
   "cell_type": "code",
   "execution_count": 33,
   "metadata": {},
   "outputs": [],
   "source": [
    "time = [datetime.utcfromtimestamp(i) for i in np.array(raw_array['t'])]\n",
    "\n",
    "nanten2 = astropy.coordinates.EarthLocation(\n",
    "        lon =  -67.70308139 * u.deg,\n",
    "        lat = -22.96995611  * u.deg,\n",
    "        height = 4863.85 * u.m\n",
    "    )"
   ]
  },
  {
   "cell_type": "code",
   "execution_count": 34,
   "metadata": {},
   "outputs": [],
   "source": [
    "l_list, b_list = get_lb(raw_array, time=time, location=nanten2)"
   ]
  },
  {
   "cell_type": "code",
   "execution_count": 11,
   "metadata": {},
   "outputs": [],
   "source": [
    "data_array = make_data_array(\n",
    "    \n",
    "    raw_array, \n",
    "    l_list,\n",
    "    b_list, \n",
    "    filename=f'n20200320193251_12CO_2-1_otf_OriKL_IF{IF}', \n",
    "    save=True\n",
    "    \n",
    ")"
   ]
  },
  {
   "cell_type": "code",
   "execution_count": 40,
   "metadata": {},
   "outputs": [
    {
     "data": {
      "text/html": [
       "<pre>&lt;xarray.DataArray (t: 20934, spectral_data: 32768)&gt;\n",
       "array([[1.2836528e+10, 1.2836528e+10, 1.2836528e+10, ..., 2.0689477e+12,\n",
       "        2.1351196e+12, 2.1391624e+12],\n",
       "       [1.2631030e+10, 1.2631030e+10, 1.2631030e+10, ..., 2.1529649e+12,\n",
       "        2.1317448e+12, 2.2218458e+12],\n",
       "       [1.2766928e+10, 1.2766928e+10, 1.2766928e+10, ..., 2.1252916e+12,\n",
       "        2.1591129e+12, 2.1334309e+12],\n",
       "       ...,\n",
       "       [1.3100738e+10, 1.3100738e+10, 1.3100738e+10, ..., 2.0208622e+12,\n",
       "        2.0203192e+12, 2.0419649e+12],\n",
       "       [1.2744699e+10, 1.2744699e+10, 1.2744699e+10, ..., 2.0645874e+12,\n",
       "        1.9841526e+12, 2.0030236e+12],\n",
       "       [1.3087892e+10, 1.3087892e+10, 1.3087892e+10, ..., 1.9918843e+12,\n",
       "        2.0448307e+12, 1.9550284e+12]], dtype=float32)\n",
       "Coordinates:\n",
       "  * t         (t) float64 1.585e+09 1.585e+09 1.585e+09 ... 1.585e+09 1.585e+09\n",
       "    obsmode   (t) |S12 b&#x27;          &#x27; b&#x27;          &#x27; ... b&#x27;          &#x27;\n",
       "    scan_num  (t) float32 61.0 61.0 61.0 61.0 61.0 ... 121.0 121.0 121.0 121.0\n",
       "    l_list    (t) float64 209.5 209.5 209.5 209.5 ... 209.0 209.0 209.0 209.0\n",
       "    b_list    (t) float64 -13.25 -13.25 -13.25 -13.25 ... -17.3 -17.3 -17.3\n",
       "Dimensions without coordinates: spectral_data</pre>"
      ],
      "text/plain": [
       "<xarray.DataArray (t: 20934, spectral_data: 32768)>\n",
       "array([[1.2836528e+10, 1.2836528e+10, 1.2836528e+10, ..., 2.0689477e+12,\n",
       "        2.1351196e+12, 2.1391624e+12],\n",
       "       [1.2631030e+10, 1.2631030e+10, 1.2631030e+10, ..., 2.1529649e+12,\n",
       "        2.1317448e+12, 2.2218458e+12],\n",
       "       [1.2766928e+10, 1.2766928e+10, 1.2766928e+10, ..., 2.1252916e+12,\n",
       "        2.1591129e+12, 2.1334309e+12],\n",
       "       ...,\n",
       "       [1.3100738e+10, 1.3100738e+10, 1.3100738e+10, ..., 2.0208622e+12,\n",
       "        2.0203192e+12, 2.0419649e+12],\n",
       "       [1.2744699e+10, 1.2744699e+10, 1.2744699e+10, ..., 2.0645874e+12,\n",
       "        1.9841526e+12, 2.0030236e+12],\n",
       "       [1.3087892e+10, 1.3087892e+10, 1.3087892e+10, ..., 1.9918843e+12,\n",
       "        2.0448307e+12, 1.9550284e+12]], dtype=float32)\n",
       "Coordinates:\n",
       "  * t         (t) float64 1.585e+09 1.585e+09 1.585e+09 ... 1.585e+09 1.585e+09\n",
       "    obsmode   (t) |S12 b'          ' b'          ' ... b'          '\n",
       "    scan_num  (t) float32 61.0 61.0 61.0 61.0 61.0 ... 121.0 121.0 121.0 121.0\n",
       "    l_list    (t) float64 209.5 209.5 209.5 209.5 ... 209.0 209.0 209.0 209.0\n",
       "    b_list    (t) float64 -13.25 -13.25 -13.25 -13.25 ... -17.3 -17.3 -17.3\n",
       "Dimensions without coordinates: spectral_data"
      ]
     },
     "execution_count": 40,
     "metadata": {},
     "output_type": "execute_result"
    }
   ],
   "source": [
    "data_array"
   ]
  },
  {
   "cell_type": "code",
   "execution_count": 38,
   "metadata": {},
   "outputs": [],
   "source": [
    "l = np.array(data_array['l_list'])\n",
    "b = np.array(data_array['b_list'])"
   ]
  },
  {
   "cell_type": "code",
   "execution_count": 39,
   "metadata": {},
   "outputs": [
    {
     "data": {
      "text/plain": [
       "[<matplotlib.lines.Line2D at 0x7fc333fd6550>]"
      ]
     },
     "execution_count": 39,
     "metadata": {},
     "output_type": "execute_result"
    },
    {
     "data": {
      "image/png": "[encoded data removed]",
      "text/plain": [
       "<Figure size 432x288 with 1 Axes>"
      ]
     },
     "metadata": {
      "needs_background": "light"
     },
     "output_type": "display_data"
    }
   ],
   "source": [
    "plt.plot(l, b, '.')"
   ]
  },
  {
   "cell_type": "code",
   "execution_count": null,
   "metadata": {},
   "outputs": [],
   "source": []
  }
 ],
 "metadata": {
  "kernelspec": {
   "display_name": "analy-Eyq-irNF",
   "language": "python",
   "name": "analy-eyq-irnf"
  },
  "language_info": {
   "codemirror_mode": {
    "name": "ipython",
    "version": 3
   },
   "file_extension": ".py",
   "mimetype": "text/x-python",
   "name": "python",
   "nbconvert_exporter": "python",
   "pygments_lexer": "ipython3",
   "version": "3.7.0"
  }
 },
 "nbformat": 4,
 "nbformat_minor": 2
}
