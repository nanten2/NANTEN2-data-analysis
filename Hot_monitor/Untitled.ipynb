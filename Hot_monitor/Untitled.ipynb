{
 "cells": [
  {
   "cell_type": "code",
   "execution_count": 1,
   "metadata": {},
   "outputs": [],
   "source": [
    "import matplotlib.pyplot as plt\n",
    "plt.rcParams['font.family'] = 'Arial,freesans'\n",
    "\n",
    "import numpy as np\n",
    "import pandas as pd\n",
    "import pathlib\n",
    "import xarray as xr\n",
    "import time\n",
    "import os\n",
    "import sys\n",
    "import necstdb\n",
    "from datetime import datetime\n",
    "import datetime as dt\n",
    "import matplotlib.dates as md\n",
    "import cv2"
   ]
  },
  {
   "cell_type": "code",
   "execution_count": null,
   "metadata": {},
   "outputs": [],
   "source": [
    "obsmode_name = {\n",
    "    'ON' : b'ON        '\n",
    "    'OFF' : b'OFF       '\n",
    "    'HOT' : b'HOT       '\n",
    "}"
   ]
  },
  {
   "cell_type": "code",
   "execution_count": 2,
   "metadata": {},
   "outputs": [],
   "source": [
    "def get_array(path, xFFTS_Data_topics):\n",
    "    db = necstdb.opendb(path)\n",
    "    xFFTS_data = db.open_table(xFFTS_Data_topics).read(astype='array')\n",
    "    obsmode =  db.open_table('obsmode').read(astype='array')\n",
    "    enc =  db.open_table('status_encoder').read(astype='array')\n",
    "    \n",
    "    spec_array = xr.DataArray(\n",
    "\n",
    "        xFFTS_data['spec'], \n",
    "        dims=['t', 'spectral_data'], \n",
    "        coords={'t':xFFTS_data['received_time']}\n",
    "    )\n",
    "\n",
    "\n",
    "    obsmode_array = xr.DataArray(\n",
    "\n",
    "        obsmode['obs_mode'],\n",
    "        dims = ['t'],\n",
    "        coords={'t':obsmode['received_time'], 'scan_num':('t', obsmode['scan_num'])}\n",
    "\n",
    "\n",
    "    )\n",
    "    \n",
    "    az_array = xr.DataArray(\n",
    "        \n",
    "        enc['enc_az']/3600, \n",
    "        dims=['t'],\n",
    "        coords={'t':enc['timestamp']}\n",
    "    )\n",
    "    \n",
    "    el_array = xr.DataArray(\n",
    "        \n",
    "        enc['enc_el']/3600, \n",
    "        dims=['t'],\n",
    "        coords={'t':enc['timestamp']}\n",
    "    )\n",
    "\n",
    "    return spec_array, obsmode_array, az_array, el_array\n",
    "\n",
    "def concatenate(spec_array, obsmode_array, az_array, el_array):\n",
    "    \n",
    "    reindexed_obsmode_array = obsmode_array.reindex(t=spec_array['t'], method='backfill')\n",
    "    reindexed_encoder_az_array = az_array.interp_like(spec_array)\n",
    "    reindexed_encoder_el_array = el_array.interp_like(spec_array)\n",
    "    \n",
    "    del obsmode_array\n",
    "    del az_array\n",
    "    del el_array\n",
    "    raw_array = xr.DataArray(\n",
    "        np.array(spec_array),\n",
    "        dims=['t', 'spectral_data'],\n",
    "        coords={'t':spec_array['t'],\n",
    "                \n",
    "               'obsmode':('t',np.array(reindexed_obsmode_array)),\n",
    "               'scan_num':('t', np.array(reindexed_obsmode_array['scan_num'])),\n",
    "               'azlist':('t', np.array(reindexed_encoder_az_array)),\n",
    "               'ellist':('t', np.array(reindexed_encoder_el_array))\n",
    "                \n",
    "               }\n",
    "    )\n",
    "    \n",
    "    return raw_array"
   ]
  },
  {
   "cell_type": "code",
   "execution_count": null,
   "metadata": {},
   "outputs": [],
   "source": []
  }
 ],
 "metadata": {
  "kernelspec": {
   "display_name": "analy-Eyq-irNF",
   "language": "python",
   "name": "analy-eyq-irnf"
  },
  "language_info": {
   "codemirror_mode": {
    "name": "ipython",
    "version": 3
   },
   "file_extension": ".py",
   "mimetype": "text/x-python",
   "name": "python",
   "nbconvert_exporter": "python",
   "pygments_lexer": "ipython3",
   "version": "3.7.0"
  }
 },
 "nbformat": 4,
 "nbformat_minor": 2
}
